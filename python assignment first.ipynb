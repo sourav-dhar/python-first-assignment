{
 "cells": [
  {
   "cell_type": "markdown",
   "metadata": {},
   "source": [
    "1. Write a Python program to reverse a string without using any built-in string reversal functions."
   ]
  },
  {
   "cell_type": "code",
   "execution_count": 1,
   "metadata": {},
   "outputs": [
    {
     "name": "stdout",
     "output_type": "stream",
     "text": [
      "Enter the sentence: my name is sourav dhar\n",
      "The reversed sentence: rahd varuos si eman ym\n"
     ]
    }
   ],
   "source": [
    "def reverse_string(sentence):\n",
    "    reversed_sentence = \"\"\n",
    "    for i in range(len(sentence)-1, -1, -1):\n",
    "        reversed_sentence += sentence[i]\n",
    "    return reversed_sentence\n",
    "\n",
    "sentence = input('Enter the sentence: ')\n",
    "reversed_sentence = reverse_string(sentence)\n",
    "print(f\"The reversed sentence: {reversed_sentence}\")"
   ]
  },
  {
   "cell_type": "markdown",
   "metadata": {},
   "source": [
    "2. Implement a function to check if a given string is a palindrome.\n"
   ]
  },
  {
   "cell_type": "code",
   "execution_count": 2,
   "metadata": {},
   "outputs": [
    {
     "name": "stdout",
     "output_type": "stream",
     "text": [
      "Enter the word: malayalam\n",
      "The word is a palindrome.\n"
     ]
    }
   ],
   "source": [
    "def is_palindrome(sentence):\n",
    "    sentence = sentence.lower()  # Convert the sentence to lowercase\n",
    "    sentence = sentence.replace(\" \", \"\")  # Remove whitespace from the sentence\n",
    "\n",
    "    # Check if the reversed sentence is equal to the original sentence\n",
    "    reversed_sentence = sentence[::-1]\n",
    "    if sentence == reversed_sentence:\n",
    "        return True\n",
    "    else:\n",
    "        return False\n",
    "\n",
    "sentence = input('Enter the word: ')\n",
    "if is_palindrome(sentence):\n",
    "    print(\"The word is a palindrome.\")\n",
    "else:\n",
    "    print(\"The word is not a palindrome.\")\n"
   ]
  },
  {
   "cell_type": "markdown",
   "metadata": {},
   "source": [
    "3. Write a program to find the largest element in a given list."
   ]
  },
  {
   "cell_type": "code",
   "execution_count": 3,
   "metadata": {},
   "outputs": [
    {
     "name": "stdout",
     "output_type": "stream",
     "text": [
      "The largest number in the list is: 78\n"
     ]
    }
   ],
   "source": [
    "def find_largest_element(lst):\n",
    "    if len(lst) == 0:\n",
    "        return None\n",
    "\n",
    "    largest = lst[0]  # Assume the first element is the largest\n",
    "\n",
    "    for num in lst:\n",
    "        if num > largest:\n",
    "            largest = num\n",
    "\n",
    "    return largest\n",
    "\n",
    "# Example usage\n",
    "numbers = [12, 45, 78, 23, 56, 34]\n",
    "largest_number = find_largest_element(numbers)\n",
    "print(f\"The largest number in the list is: {largest_number}\")\n"
   ]
  },
  {
   "cell_type": "markdown",
   "metadata": {},
   "source": [
    "4. Implement a function to count the occurrence of each element in a list."
   ]
  },
  {
   "cell_type": "code",
   "execution_count": 4,
   "metadata": {},
   "outputs": [
    {
     "name": "stdout",
     "output_type": "stream",
     "text": [
      "Element occurrences:\n",
      "1: 3\n",
      "2: 3\n",
      "3: 2\n",
      "4: 2\n",
      "5: 1\n"
     ]
    }
   ],
   "source": [
    "def count_occurrences(lst):\n",
    "    occurrences = {}\n",
    "    \n",
    "    for item in lst:\n",
    "        if item in occurrences:\n",
    "            occurrences[item] += 1\n",
    "        else:\n",
    "            occurrences[item] = 1\n",
    "    \n",
    "    return occurrences\n",
    "\n",
    "# Example usage\n",
    "numbers = [1, 2, 3, 2, 1, 3, 4, 2, 4, 5, 1]\n",
    "occurrences = count_occurrences(numbers)\n",
    "print(\"Element occurrences:\")\n",
    "for item, count in occurrences.items():\n",
    "    print(f\"{item}: {count}\")\n"
   ]
  },
  {
   "cell_type": "markdown",
   "metadata": {},
   "source": [
    "5. Write a Python program to find the second largest number in a list."
   ]
  },
  {
   "cell_type": "code",
   "execution_count": 5,
   "metadata": {},
   "outputs": [
    {
     "name": "stdout",
     "output_type": "stream",
     "text": [
      "The second largest number in the list is: 56\n"
     ]
    }
   ],
   "source": [
    "def find_second_largest(lst):\n",
    "    if len(lst) < 2:\n",
    "        return None\n",
    "\n",
    "    largest = float('-inf')\n",
    "    second_largest = float('-inf')\n",
    "\n",
    "    for num in lst:\n",
    "        if num > largest:\n",
    "            second_largest = largest\n",
    "            largest = num\n",
    "        elif num > second_largest and num != largest:\n",
    "            second_largest = num\n",
    "\n",
    "    if second_largest == float('-inf'):\n",
    "        return None\n",
    "    else:\n",
    "        return second_largest\n",
    "\n",
    "# Example usage\n",
    "numbers = [12, 45, 78, 23, 56, 34]\n",
    "second_largest_number = find_second_largest(numbers)\n",
    "if second_largest_number is not None:\n",
    "    print(f\"The second largest number in the list is: {second_largest_number}\")\n",
    "else:\n",
    "    print(\"There is no second largest number in the list.\")\n"
   ]
  },
  {
   "cell_type": "markdown",
   "metadata": {},
   "source": [
    "6. Implement a function to remove duplicate elements from a list."
   ]
  },
  {
   "cell_type": "code",
   "execution_count": 6,
   "metadata": {},
   "outputs": [
    {
     "name": "stdout",
     "output_type": "stream",
     "text": [
      "List with duplicates removed: [1, 2, 3, 4, 5]\n"
     ]
    }
   ],
   "source": [
    "def remove_duplicates(lst):\n",
    "    seen = set()\n",
    "    result = []\n",
    "    \n",
    "    for item in lst:\n",
    "        if item not in seen:\n",
    "            seen.add(item)\n",
    "            result.append(item)\n",
    "    \n",
    "    return result\n",
    "\n",
    "# Example usage\n",
    "numbers = [1, 2, 3, 2, 1, 3, 4, 2, 4, 5, 1]\n",
    "unique_numbers = remove_duplicates(numbers)\n",
    "print(\"List with duplicates removed:\", unique_numbers)\n"
   ]
  },
  {
   "cell_type": "markdown",
   "metadata": {},
   "source": [
    "7. Write a program to calculate the factorial of a given number."
   ]
  },
  {
   "cell_type": "code",
   "execution_count": 7,
   "metadata": {},
   "outputs": [
    {
     "name": "stdout",
     "output_type": "stream",
     "text": [
      "Enter a number: 5\n",
      "The factorial of 5 is: 120\n"
     ]
    }
   ],
   "source": [
    "def factorial(n):\n",
    "    if n < 0:\n",
    "        return None\n",
    "    elif n == 0:\n",
    "        return 1\n",
    "    else:\n",
    "        result = 1\n",
    "        for i in range(1, n + 1):\n",
    "            result *= i\n",
    "        return result\n",
    "\n",
    "# Example usage\n",
    "number = int(input(\"Enter a number: \"))\n",
    "factorial_result = factorial(number)\n",
    "if factorial_result is not None:\n",
    "    print(f\"The factorial of {number} is: {factorial_result}\")\n",
    "else:\n",
    "    print(\"Factorial is not defined for negative numbers.\")\n"
   ]
  },
  {
   "cell_type": "markdown",
   "metadata": {},
   "source": [
    "8. Implement a function to check if a given number is prime."
   ]
  },
  {
   "cell_type": "code",
   "execution_count": 9,
   "metadata": {},
   "outputs": [
    {
     "name": "stdout",
     "output_type": "stream",
     "text": [
      "Enter a number: 17\n",
      "17 is a prime number.\n"
     ]
    }
   ],
   "source": [
    "def is_prime(n):\n",
    "    if n < 2:\n",
    "        return False\n",
    "\n",
    "    for i in range(2, int(n ** 0.5) + 1):\n",
    "        if n % i == 0:\n",
    "            return False\n",
    "\n",
    "    return True\n",
    "\n",
    "# Example usage\n",
    "number = int(input(\"Enter a number: \"))\n",
    "if is_prime(number):\n",
    "    print(f\"{number} is a prime number.\")\n",
    "else:\n",
    "    print(f\"{number} is not a prime number.\")\n"
   ]
  },
  {
   "cell_type": "markdown",
   "metadata": {},
   "source": [
    "9. Write a Python program to sort a list of integers in ascending order.\n"
   ]
  },
  {
   "cell_type": "code",
   "execution_count": 10,
   "metadata": {},
   "outputs": [
    {
     "name": "stdout",
     "output_type": "stream",
     "text": [
      "Sorted list: [1, 2, 3, 5, 7, 8, 9]\n"
     ]
    }
   ],
   "source": [
    "# Example usage\n",
    "numbers = [9, 5, 2, 7, 1, 8, 3]\n",
    "sorted_numbers = sorted(numbers)\n",
    "print(\"Sorted list:\", sorted_numbers)\n"
   ]
  },
  {
   "cell_type": "markdown",
   "metadata": {},
   "source": [
    "\n",
    "10. Implement a function to find the sum of all numbers in a list.\n",
    "\n"
   ]
  },
  {
   "cell_type": "code",
   "execution_count": 11,
   "metadata": {},
   "outputs": [
    {
     "name": "stdout",
     "output_type": "stream",
     "text": [
      "The sum of the numbers is: 24\n"
     ]
    }
   ],
   "source": [
    "def calculate_sum(numbers):\n",
    "    total = 0\n",
    "    for num in numbers:\n",
    "        total += num\n",
    "    return total\n",
    "\n",
    "# Example usage\n",
    "numbers = [5, 2, 9, 1, 7]\n",
    "sum_of_numbers = calculate_sum(numbers)\n",
    "print(f\"The sum of the numbers is: {sum_of_numbers}\")\n"
   ]
  },
  {
   "cell_type": "markdown",
   "metadata": {},
   "source": [
    "11. Write a program to find the common elements between two lists.\n",
    "\n"
   ]
  },
  {
   "cell_type": "code",
   "execution_count": 12,
   "metadata": {},
   "outputs": [
    {
     "name": "stdout",
     "output_type": "stream",
     "text": [
      "Common elements: [4, 5]\n"
     ]
    }
   ],
   "source": [
    "def find_common_elements(list1, list2):\n",
    "    common_elements = []\n",
    "    for item in list1:\n",
    "        if item in list2 and item not in common_elements:\n",
    "            common_elements.append(item)\n",
    "    return common_elements\n",
    "\n",
    "# Example usage\n",
    "list1 = [1, 2, 3, 4, 5]\n",
    "list2 = [4, 5, 6, 7, 8]\n",
    "common_elements = find_common_elements(list1, list2)\n",
    "print(\"Common elements:\", common_elements)\n"
   ]
  },
  {
   "cell_type": "markdown",
   "metadata": {},
   "source": [
    "12. Implement a function to check if a given string is an anagram of another string.\n",
    "\n"
   ]
  },
  {
   "cell_type": "code",
   "execution_count": 14,
   "metadata": {},
   "outputs": [
    {
     "name": "stdout",
     "output_type": "stream",
     "text": [
      "Enter the first string: beard\n",
      "Enter the second string: bread\n",
      "The strings are anagrams.\n"
     ]
    }
   ],
   "source": [
    "def is_anagram(str1, str2):\n",
    "    str1 = str1.lower()\n",
    "    str2 = str2.lower()\n",
    "    \n",
    "    str1 = str1.replace(\" \", \"\")\n",
    "    str2 = str2.replace(\" \", \"\")\n",
    "    \n",
    "    if len(str1) != len(str2):\n",
    "        return False\n",
    "\n",
    "    char_count = {}\n",
    "    for char in str1:\n",
    "        if char in char_count:\n",
    "            char_count[char] += 1\n",
    "        else:\n",
    "            char_count[char] = 1\n",
    "\n",
    "    for char in str2:\n",
    "        if char in char_count:\n",
    "            char_count[char] -= 1\n",
    "            if char_count[char] == 0:\n",
    "                del char_count[char]\n",
    "        else:\n",
    "            return False\n",
    "\n",
    "    return len(char_count) == 0\n",
    "\n",
    "# Example usage\n",
    "string1 = input(\"Enter the first string: \")\n",
    "string2 = input(\"Enter the second string: \")\n",
    "\n",
    "if is_anagram(string1, string2):\n",
    "    print(\"The strings are anagrams.\")\n",
    "else:\n",
    "    print(\"The strings are not anagrams.\")\n"
   ]
  },
  {
   "cell_type": "markdown",
   "metadata": {},
   "source": [
    "13. Write a Python program to generate all permutations of a given string.\n"
   ]
  },
  {
   "cell_type": "code",
   "execution_count": 15,
   "metadata": {},
   "outputs": [
    {
     "name": "stdout",
     "output_type": "stream",
     "text": [
      "Enter a string: sourav\n",
      "All permutations of the string:\n",
      "sourav\n",
      "sourva\n",
      "souarv\n",
      "souavr\n",
      "souvra\n",
      "souvar\n",
      "soruav\n",
      "soruva\n",
      "sorauv\n",
      "soravu\n",
      "sorvua\n",
      "sorvau\n",
      "soaurv\n",
      "soauvr\n",
      "soaruv\n",
      "soarvu\n",
      "soavur\n",
      "soavru\n",
      "sovura\n",
      "sovuar\n",
      "sovrua\n",
      "sovrau\n",
      "sovaur\n",
      "sovaru\n",
      "suorav\n",
      "suorva\n",
      "suoarv\n",
      "suoavr\n",
      "suovra\n",
      "suovar\n",
      "suroav\n",
      "surova\n",
      "suraov\n",
      "suravo\n",
      "survoa\n",
      "survao\n",
      "suaorv\n",
      "suaovr\n",
      "suarov\n",
      "suarvo\n",
      "suavor\n",
      "suavro\n",
      "suvora\n",
      "suvoar\n",
      "suvroa\n",
      "suvrao\n",
      "suvaor\n",
      "suvaro\n",
      "srouav\n",
      "srouva\n",
      "sroauv\n",
      "sroavu\n",
      "srovua\n",
      "srovau\n",
      "sruoav\n",
      "sruova\n",
      "sruaov\n",
      "sruavo\n",
      "sruvoa\n",
      "sruvao\n",
      "sraouv\n",
      "sraovu\n",
      "srauov\n",
      "srauvo\n",
      "sravou\n",
      "sravuo\n",
      "srvoua\n",
      "srvoau\n",
      "srvuoa\n",
      "srvuao\n",
      "srvaou\n",
      "srvauo\n",
      "saourv\n",
      "saouvr\n",
      "saoruv\n",
      "saorvu\n",
      "saovur\n",
      "saovru\n",
      "sauorv\n",
      "sauovr\n",
      "saurov\n",
      "saurvo\n",
      "sauvor\n",
      "sauvro\n",
      "sarouv\n",
      "sarovu\n",
      "saruov\n",
      "saruvo\n",
      "sarvou\n",
      "sarvuo\n",
      "savour\n",
      "savoru\n",
      "savuor\n",
      "savuro\n",
      "savrou\n",
      "savruo\n",
      "svoura\n",
      "svouar\n",
      "svorua\n",
      "svorau\n",
      "svoaur\n",
      "svoaru\n",
      "svuora\n",
      "svuoar\n",
      "svuroa\n",
      "svurao\n",
      "svuaor\n",
      "svuaro\n",
      "svroua\n",
      "svroau\n",
      "svruoa\n",
      "svruao\n",
      "svraou\n",
      "svrauo\n",
      "svaour\n",
      "svaoru\n",
      "svauor\n",
      "svauro\n",
      "svarou\n",
      "svaruo\n",
      "osurav\n",
      "osurva\n",
      "osuarv\n",
      "osuavr\n",
      "osuvra\n",
      "osuvar\n",
      "osruav\n",
      "osruva\n",
      "osrauv\n",
      "osravu\n",
      "osrvua\n",
      "osrvau\n",
      "osaurv\n",
      "osauvr\n",
      "osaruv\n",
      "osarvu\n",
      "osavur\n",
      "osavru\n",
      "osvura\n",
      "osvuar\n",
      "osvrua\n",
      "osvrau\n",
      "osvaur\n",
      "osvaru\n",
      "ousrav\n",
      "ousrva\n",
      "ousarv\n",
      "ousavr\n",
      "ousvra\n",
      "ousvar\n",
      "oursav\n",
      "oursva\n",
      "ourasv\n",
      "ouravs\n",
      "ourvsa\n",
      "ourvas\n",
      "ouasrv\n",
      "ouasvr\n",
      "ouarsv\n",
      "ouarvs\n",
      "ouavsr\n",
      "ouavrs\n",
      "ouvsra\n",
      "ouvsar\n",
      "ouvrsa\n",
      "ouvras\n",
      "ouvasr\n",
      "ouvars\n",
      "orsuav\n",
      "orsuva\n",
      "orsauv\n",
      "orsavu\n",
      "orsvua\n",
      "orsvau\n",
      "orusav\n",
      "orusva\n",
      "oruasv\n",
      "oruavs\n",
      "oruvsa\n",
      "oruvas\n",
      "orasuv\n",
      "orasvu\n",
      "orausv\n",
      "orauvs\n",
      "oravsu\n",
      "oravus\n",
      "orvsua\n",
      "orvsau\n",
      "orvusa\n",
      "orvuas\n",
      "orvasu\n",
      "orvaus\n",
      "oasurv\n",
      "oasuvr\n",
      "oasruv\n",
      "oasrvu\n",
      "oasvur\n",
      "oasvru\n",
      "oausrv\n",
      "oausvr\n",
      "oaursv\n",
      "oaurvs\n",
      "oauvsr\n",
      "oauvrs\n",
      "oarsuv\n",
      "oarsvu\n",
      "oarusv\n",
      "oaruvs\n",
      "oarvsu\n",
      "oarvus\n",
      "oavsur\n",
      "oavsru\n",
      "oavusr\n",
      "oavurs\n",
      "oavrsu\n",
      "oavrus\n",
      "ovsura\n",
      "ovsuar\n",
      "ovsrua\n",
      "ovsrau\n",
      "ovsaur\n",
      "ovsaru\n",
      "ovusra\n",
      "ovusar\n",
      "ovursa\n",
      "ovuras\n",
      "ovuasr\n",
      "ovuars\n",
      "ovrsua\n",
      "ovrsau\n",
      "ovrusa\n",
      "ovruas\n",
      "ovrasu\n",
      "ovraus\n",
      "ovasur\n",
      "ovasru\n",
      "ovausr\n",
      "ovaurs\n",
      "ovarsu\n",
      "ovarus\n",
      "usorav\n",
      "usorva\n",
      "usoarv\n",
      "usoavr\n",
      "usovra\n",
      "usovar\n",
      "usroav\n",
      "usrova\n",
      "usraov\n",
      "usravo\n",
      "usrvoa\n",
      "usrvao\n",
      "usaorv\n",
      "usaovr\n",
      "usarov\n",
      "usarvo\n",
      "usavor\n",
      "usavro\n",
      "usvora\n",
      "usvoar\n",
      "usvroa\n",
      "usvrao\n",
      "usvaor\n",
      "usvaro\n",
      "uosrav\n",
      "uosrva\n",
      "uosarv\n",
      "uosavr\n",
      "uosvra\n",
      "uosvar\n",
      "uorsav\n",
      "uorsva\n",
      "uorasv\n",
      "uoravs\n",
      "uorvsa\n",
      "uorvas\n",
      "uoasrv\n",
      "uoasvr\n",
      "uoarsv\n",
      "uoarvs\n",
      "uoavsr\n",
      "uoavrs\n",
      "uovsra\n",
      "uovsar\n",
      "uovrsa\n",
      "uovras\n",
      "uovasr\n",
      "uovars\n",
      "ursoav\n",
      "ursova\n",
      "ursaov\n",
      "ursavo\n",
      "ursvoa\n",
      "ursvao\n",
      "urosav\n",
      "urosva\n",
      "uroasv\n",
      "uroavs\n",
      "urovsa\n",
      "urovas\n",
      "urasov\n",
      "urasvo\n",
      "uraosv\n",
      "uraovs\n",
      "uravso\n",
      "uravos\n",
      "urvsoa\n",
      "urvsao\n",
      "urvosa\n",
      "urvoas\n",
      "urvaso\n",
      "urvaos\n",
      "uasorv\n",
      "uasovr\n",
      "uasrov\n",
      "uasrvo\n",
      "uasvor\n",
      "uasvro\n",
      "uaosrv\n",
      "uaosvr\n",
      "uaorsv\n",
      "uaorvs\n",
      "uaovsr\n",
      "uaovrs\n",
      "uarsov\n",
      "uarsvo\n",
      "uarosv\n",
      "uarovs\n",
      "uarvso\n",
      "uarvos\n",
      "uavsor\n",
      "uavsro\n",
      "uavosr\n",
      "uavors\n",
      "uavrso\n",
      "uavros\n",
      "uvsora\n",
      "uvsoar\n",
      "uvsroa\n",
      "uvsrao\n",
      "uvsaor\n",
      "uvsaro\n",
      "uvosra\n",
      "uvosar\n",
      "uvorsa\n",
      "uvoras\n",
      "uvoasr\n",
      "uvoars\n",
      "uvrsoa\n",
      "uvrsao\n",
      "uvrosa\n",
      "uvroas\n",
      "uvraso\n",
      "uvraos\n",
      "uvasor\n",
      "uvasro\n",
      "uvaosr\n",
      "uvaors\n",
      "uvarso\n",
      "uvaros\n",
      "rsouav\n",
      "rsouva\n",
      "rsoauv\n",
      "rsoavu\n",
      "rsovua\n",
      "rsovau\n",
      "rsuoav\n",
      "rsuova\n",
      "rsuaov\n",
      "rsuavo\n",
      "rsuvoa\n",
      "rsuvao\n",
      "rsaouv\n",
      "rsaovu\n",
      "rsauov\n",
      "rsauvo\n",
      "rsavou\n",
      "rsavuo\n",
      "rsvoua\n",
      "rsvoau\n",
      "rsvuoa\n",
      "rsvuao\n",
      "rsvaou\n",
      "rsvauo\n",
      "rosuav\n",
      "rosuva\n",
      "rosauv\n",
      "rosavu\n",
      "rosvua\n",
      "rosvau\n",
      "rousav\n",
      "rousva\n",
      "rouasv\n",
      "rouavs\n",
      "rouvsa\n",
      "rouvas\n",
      "roasuv\n",
      "roasvu\n",
      "roausv\n",
      "roauvs\n",
      "roavsu\n",
      "roavus\n",
      "rovsua\n",
      "rovsau\n",
      "rovusa\n",
      "rovuas\n",
      "rovasu\n",
      "rovaus\n",
      "rusoav\n",
      "rusova\n",
      "rusaov\n",
      "rusavo\n",
      "rusvoa\n",
      "rusvao\n",
      "ruosav\n",
      "ruosva\n",
      "ruoasv\n",
      "ruoavs\n",
      "ruovsa\n",
      "ruovas\n",
      "ruasov\n",
      "ruasvo\n",
      "ruaosv\n",
      "ruaovs\n",
      "ruavso\n",
      "ruavos\n",
      "ruvsoa\n",
      "ruvsao\n",
      "ruvosa\n",
      "ruvoas\n",
      "ruvaso\n",
      "ruvaos\n",
      "rasouv\n",
      "rasovu\n",
      "rasuov\n",
      "rasuvo\n",
      "rasvou\n",
      "rasvuo\n",
      "raosuv\n",
      "raosvu\n",
      "raousv\n",
      "raouvs\n",
      "raovsu\n",
      "raovus\n",
      "rausov\n",
      "rausvo\n",
      "rauosv\n",
      "rauovs\n",
      "rauvso\n",
      "rauvos\n",
      "ravsou\n",
      "ravsuo\n",
      "ravosu\n",
      "ravous\n",
      "ravuso\n",
      "ravuos\n",
      "rvsoua\n",
      "rvsoau\n",
      "rvsuoa\n",
      "rvsuao\n",
      "rvsaou\n",
      "rvsauo\n",
      "rvosua\n",
      "rvosau\n",
      "rvousa\n",
      "rvouas\n",
      "rvoasu\n",
      "rvoaus\n",
      "rvusoa\n",
      "rvusao\n",
      "rvuosa\n",
      "rvuoas\n",
      "rvuaso\n",
      "rvuaos\n",
      "rvasou\n",
      "rvasuo\n",
      "rvaosu\n",
      "rvaous\n",
      "rvauso\n",
      "rvauos\n",
      "asourv\n",
      "asouvr\n",
      "asoruv\n",
      "asorvu\n",
      "asovur\n",
      "asovru\n",
      "asuorv\n",
      "asuovr\n",
      "asurov\n",
      "asurvo\n",
      "asuvor\n",
      "asuvro\n",
      "asrouv\n",
      "asrovu\n",
      "asruov\n",
      "asruvo\n",
      "asrvou\n",
      "asrvuo\n",
      "asvour\n",
      "asvoru\n",
      "asvuor\n",
      "asvuro\n",
      "asvrou\n",
      "asvruo\n",
      "aosurv\n",
      "aosuvr\n",
      "aosruv\n",
      "aosrvu\n",
      "aosvur\n",
      "aosvru\n",
      "aousrv\n",
      "aousvr\n",
      "aoursv\n",
      "aourvs\n",
      "aouvsr\n",
      "aouvrs\n",
      "aorsuv\n",
      "aorsvu\n",
      "aorusv\n",
      "aoruvs\n",
      "aorvsu\n",
      "aorvus\n",
      "aovsur\n",
      "aovsru\n",
      "aovusr\n",
      "aovurs\n",
      "aovrsu\n",
      "aovrus\n",
      "ausorv\n",
      "ausovr\n",
      "ausrov\n",
      "ausrvo\n",
      "ausvor\n",
      "ausvro\n",
      "auosrv\n",
      "auosvr\n",
      "auorsv\n",
      "auorvs\n",
      "auovsr\n",
      "auovrs\n",
      "aursov\n",
      "aursvo\n",
      "aurosv\n",
      "aurovs\n",
      "aurvso\n",
      "aurvos\n",
      "auvsor\n",
      "auvsro\n",
      "auvosr\n",
      "auvors\n",
      "auvrso\n",
      "auvros\n",
      "arsouv\n",
      "arsovu\n",
      "arsuov\n",
      "arsuvo\n",
      "arsvou\n",
      "arsvuo\n",
      "arosuv\n",
      "arosvu\n",
      "arousv\n",
      "arouvs\n",
      "arovsu\n",
      "arovus\n",
      "arusov\n",
      "arusvo\n",
      "aruosv\n",
      "aruovs\n",
      "aruvso\n",
      "aruvos\n",
      "arvsou\n",
      "arvsuo\n",
      "arvosu\n",
      "arvous\n",
      "arvuso\n",
      "arvuos\n",
      "avsour\n",
      "avsoru\n",
      "avsuor\n",
      "avsuro\n",
      "avsrou\n",
      "avsruo\n",
      "avosur\n",
      "avosru\n",
      "avousr\n",
      "avours\n",
      "avorsu\n",
      "avorus\n",
      "avusor\n",
      "avusro\n",
      "avuosr\n",
      "avuors\n",
      "avurso\n",
      "avuros\n",
      "avrsou\n",
      "avrsuo\n",
      "avrosu\n",
      "avrous\n",
      "avruso\n",
      "avruos\n",
      "vsoura\n",
      "vsouar\n",
      "vsorua\n",
      "vsorau\n",
      "vsoaur\n",
      "vsoaru\n",
      "vsuora\n",
      "vsuoar\n",
      "vsuroa\n",
      "vsurao\n",
      "vsuaor\n",
      "vsuaro\n",
      "vsroua\n",
      "vsroau\n",
      "vsruoa\n",
      "vsruao\n",
      "vsraou\n",
      "vsrauo\n",
      "vsaour\n",
      "vsaoru\n",
      "vsauor\n",
      "vsauro\n",
      "vsarou\n",
      "vsaruo\n",
      "vosura\n",
      "vosuar\n",
      "vosrua\n",
      "vosrau\n",
      "vosaur\n",
      "vosaru\n",
      "vousra\n",
      "vousar\n",
      "voursa\n",
      "vouras\n",
      "vouasr\n",
      "vouars\n",
      "vorsua\n",
      "vorsau\n",
      "vorusa\n",
      "voruas\n",
      "vorasu\n",
      "voraus\n",
      "voasur\n",
      "voasru\n",
      "voausr\n",
      "voaurs\n",
      "voarsu\n",
      "voarus\n",
      "vusora\n",
      "vusoar\n",
      "vusroa\n",
      "vusrao\n",
      "vusaor\n",
      "vusaro\n",
      "vuosra\n",
      "vuosar\n",
      "vuorsa\n",
      "vuoras\n",
      "vuoasr\n",
      "vuoars\n",
      "vursoa\n",
      "vursao\n",
      "vurosa\n",
      "vuroas\n",
      "vuraso\n",
      "vuraos\n",
      "vuasor\n",
      "vuasro\n",
      "vuaosr\n",
      "vuaors\n",
      "vuarso\n",
      "vuaros\n",
      "vrsoua\n",
      "vrsoau\n",
      "vrsuoa\n",
      "vrsuao\n",
      "vrsaou\n",
      "vrsauo\n",
      "vrosua\n",
      "vrosau\n",
      "vrousa\n",
      "vrouas\n",
      "vroasu\n",
      "vroaus\n",
      "vrusoa\n",
      "vrusao\n",
      "vruosa\n",
      "vruoas\n",
      "vruaso\n",
      "vruaos\n",
      "vrasou\n",
      "vrasuo\n",
      "vraosu\n",
      "vraous\n",
      "vrauso\n",
      "vrauos\n",
      "vasour\n",
      "vasoru\n",
      "vasuor\n",
      "vasuro\n",
      "vasrou\n",
      "vasruo\n",
      "vaosur\n",
      "vaosru\n",
      "vaousr\n",
      "vaours\n",
      "vaorsu\n",
      "vaorus\n",
      "vausor\n",
      "vausro\n",
      "vauosr\n",
      "vauors\n",
      "vaurso\n",
      "vauros\n",
      "varsou\n",
      "varsuo\n",
      "varosu\n",
      "varous\n",
      "varuso\n",
      "varuos\n"
     ]
    }
   ],
   "source": [
    "def generate_permutations(string):\n",
    "    if len(string) == 0:\n",
    "        return []\n",
    "\n",
    "    if len(string) == 1:\n",
    "        return [string]\n",
    "\n",
    "    permutations = []  # List to store the generated permutations\n",
    "\n",
    "    for i in range(len(string)):\n",
    "        current_char = string[i]\n",
    "        remaining_chars = string[:i] + string[i+1:]\n",
    "\n",
    "        for permutation in generate_permutations(remaining_chars):\n",
    "            permutations.append(current_char + permutation)\n",
    "\n",
    "    return permutations\n",
    "\n",
    "# Example usage\n",
    "string = input(\"Enter a string: \")\n",
    "all_permutations = generate_permutations(string)\n",
    "print(\"All permutations of the string:\")\n",
    "for permutation in all_permutations:\n",
    "    print(permutation)\n"
   ]
  },
  {
   "cell_type": "markdown",
   "metadata": {},
   "source": [
    "\n",
    "14. Implement a function to calculate the Fibonacci sequence up to a given number of terms.\n",
    "\n"
   ]
  },
  {
   "cell_type": "code",
   "execution_count": 16,
   "metadata": {},
   "outputs": [
    {
     "name": "stdout",
     "output_type": "stream",
     "text": [
      "Enter the number of terms: 5\n",
      "Fibonacci sequence:\n",
      "[0, 1, 1, 2, 3]\n"
     ]
    }
   ],
   "source": [
    "def fibonacci_sequence(n):\n",
    "    if n <= 0:\n",
    "        return []\n",
    "\n",
    "    sequence = [0, 1]\n",
    "\n",
    "    while len(sequence) < n:\n",
    "        next_number = sequence[-1] + sequence[-2]\n",
    "        sequence.append(next_number)\n",
    "\n",
    "    return sequence\n",
    "\n",
    "# Example usage\n",
    "terms = int(input(\"Enter the number of terms: \"))\n",
    "fibonacci = fibonacci_sequence(terms)\n",
    "print(\"Fibonacci sequence:\")\n",
    "print(fibonacci)\n"
   ]
  },
  {
   "cell_type": "markdown",
   "metadata": {},
   "source": [
    "15. Write a program to find the median of a list of numbers.\n",
    "\n"
   ]
  },
  {
   "cell_type": "code",
   "execution_count": 17,
   "metadata": {},
   "outputs": [
    {
     "name": "stdout",
     "output_type": "stream",
     "text": [
      "The median of the numbers is: 4\n"
     ]
    }
   ],
   "source": [
    "def find_median(numbers):\n",
    "    numbers.sort()\n",
    "    n = len(numbers)\n",
    "    mid_index = n // 2\n",
    "\n",
    "    if n % 2 == 0:  # List has an even number of elements\n",
    "        median = (numbers[mid_index - 1] + numbers[mid_index]) / 2\n",
    "    else:  # List has an odd number of elements\n",
    "        median = numbers[mid_index]\n",
    "\n",
    "    return median\n",
    "\n",
    "# Example usage\n",
    "numbers = [4, 9, 2, 7, 1, 8, 3]\n",
    "median = find_median(numbers)\n",
    "print(f\"The median of the numbers is: {median}\")\n"
   ]
  },
  {
   "cell_type": "markdown",
   "metadata": {},
   "source": [
    "16. Implement a function to check if a given list is sorted in non-decreasing order.\n",
    "\n"
   ]
  },
  {
   "cell_type": "code",
   "execution_count": 18,
   "metadata": {},
   "outputs": [
    {
     "name": "stdout",
     "output_type": "stream",
     "text": [
      "The list is sorted in non-decreasing order.\n"
     ]
    }
   ],
   "source": [
    "def is_sorted(numbers):\n",
    "    n = len(numbers)\n",
    "    for i in range(1, n):\n",
    "        if numbers[i] < numbers[i - 1]:\n",
    "            return False\n",
    "    return True\n",
    "\n",
    "# Example usage\n",
    "numbers = [1, 2, 3, 4, 5]\n",
    "if is_sorted(numbers):\n",
    "    print(\"The list is sorted in non-decreasing order.\")\n",
    "else:\n",
    "    print(\"The list is not sorted in non-decreasing order.\")\n"
   ]
  },
  {
   "cell_type": "markdown",
   "metadata": {},
   "source": [
    "17. Write a Python program to find the intersection of two lists.\n",
    "\n"
   ]
  },
  {
   "cell_type": "code",
   "execution_count": 19,
   "metadata": {},
   "outputs": [
    {
     "name": "stdout",
     "output_type": "stream",
     "text": [
      "Intersection of the two lists: [4, 5]\n"
     ]
    }
   ],
   "source": [
    "def find_intersection(list1, list2):\n",
    "    set1 = set(list1)\n",
    "    set2 = set(list2)\n",
    "    intersection = set1.intersection(set2)\n",
    "    return list(intersection)\n",
    "\n",
    "# Example usage\n",
    "list1 = [1, 2, 3, 4, 5]\n",
    "list2 = [4, 5, 6, 7, 8]\n",
    "intersection = find_intersection(list1, list2)\n",
    "print(\"Intersection of the two lists:\", intersection)\n"
   ]
  },
  {
   "cell_type": "markdown",
   "metadata": {},
   "source": [
    "18. Implement a function to find the maximum subarray sum in a given list.\n",
    "\n"
   ]
  },
  {
   "cell_type": "code",
   "execution_count": 20,
   "metadata": {},
   "outputs": [
    {
     "name": "stdout",
     "output_type": "stream",
     "text": [
      "Maximum subarray sum: 7\n"
     ]
    }
   ],
   "source": [
    "def find_maximum_subarray_sum(lst):\n",
    "    if len(lst) == 0:\n",
    "        return 0\n",
    "\n",
    "    current_sum = lst[0]\n",
    "    max_sum = lst[0]\n",
    "\n",
    "    for i in range(1, len(lst)):\n",
    "        current_sum = max(lst[i], current_sum + lst[i])\n",
    "        max_sum = max(max_sum, current_sum)\n",
    "\n",
    "    return max_sum\n",
    "\n",
    "# Example usage\n",
    "numbers = [1, -2, 3, -4, 5, -6, 7]\n",
    "maximum_subarray_sum = find_maximum_subarray_sum(numbers)\n",
    "print(\"Maximum subarray sum:\", maximum_subarray_sum)\n"
   ]
  },
  {
   "cell_type": "markdown",
   "metadata": {},
   "source": [
    "19. Write a program to remove all vowels from a given string.\n",
    "\n"
   ]
  },
  {
   "cell_type": "code",
   "execution_count": 21,
   "metadata": {},
   "outputs": [
    {
     "name": "stdout",
     "output_type": "stream",
     "text": [
      "Enter a string: sourav\n",
      "String without vowels: srv\n"
     ]
    }
   ],
   "source": [
    "def remove_vowels(string):\n",
    "    vowels = \"aeiouAEIOU\"\n",
    "    without_vowels = \"\"\n",
    "    for char in string:\n",
    "        if char not in vowels:\n",
    "            without_vowels += char\n",
    "    return without_vowels\n",
    "\n",
    "# Example usage\n",
    "input_string = input(\"Enter a string: \")\n",
    "result = remove_vowels(input_string)\n",
    "print(\"String without vowels:\", result)\n"
   ]
  },
  {
   "cell_type": "markdown",
   "metadata": {},
   "source": [
    "20. Implement a function to reverse the order of words in a given sentence.\n",
    "\n"
   ]
  },
  {
   "cell_type": "code",
   "execution_count": 22,
   "metadata": {},
   "outputs": [
    {
     "name": "stdout",
     "output_type": "stream",
     "text": [
      "Enter a sentence: my name is sourav\n",
      "Reversed sentence: sourav is name my\n"
     ]
    }
   ],
   "source": [
    "def reverse_sentence(sentence):\n",
    "    words = sentence.split()\n",
    "    reversed_words = words[::-1]\n",
    "    reversed_sentence = \" \".join(reversed_words)\n",
    "    return reversed_sentence\n",
    "\n",
    "# Example usage\n",
    "input_sentence = input(\"Enter a sentence: \")\n",
    "reversed_sentence = reverse_sentence(input_sentence)\n",
    "print(\"Reversed sentence:\", reversed_sentence)\n"
   ]
  },
  {
   "cell_type": "markdown",
   "metadata": {},
   "source": [
    "21. Write a Python program to check if two strings are anagrams of each other.\n",
    "\n"
   ]
  },
  {
   "cell_type": "code",
   "execution_count": 23,
   "metadata": {},
   "outputs": [
    {
     "name": "stdout",
     "output_type": "stream",
     "text": [
      "Enter the first string: beard\n",
      "Enter the second string: bread\n",
      "The strings are anagrams.\n"
     ]
    }
   ],
   "source": [
    "def are_anagrams(str1, str2):\n",
    "    str1 = str1.lower()\n",
    "    str2 = str2.lower()\n",
    "\n",
    "    str1 = str1.replace(\" \", \"\")\n",
    "    str2 = str2.replace(\" \", \"\")\n",
    "\n",
    "    if len(str1) != len(str2):\n",
    "        return False\n",
    "\n",
    "    char_count = {}\n",
    "    for char in str1:\n",
    "        if char in char_count:\n",
    "            char_count[char] += 1\n",
    "        else:\n",
    "            char_count[char] = 1\n",
    "\n",
    "    for char in str2:\n",
    "        if char in char_count:\n",
    "            char_count[char] -= 1\n",
    "            if char_count[char] == 0:\n",
    "                del char_count[char]\n",
    "        else:\n",
    "            return False\n",
    "\n",
    "    return len(char_count) == 0\n",
    "\n",
    "# Example usage\n",
    "string1 = input(\"Enter the first string: \")\n",
    "string2 = input(\"Enter the second string: \")\n",
    "\n",
    "if are_anagrams(string1, string2):\n",
    "    print(\"The strings are anagrams.\")\n",
    "else:\n",
    "    print(\"The strings are not anagrams.\")\n"
   ]
  },
  {
   "cell_type": "markdown",
   "metadata": {},
   "source": [
    "22. Implement a function to find the first non-repeating character in a string.\n",
    "\n"
   ]
  },
  {
   "cell_type": "code",
   "execution_count": 24,
   "metadata": {},
   "outputs": [
    {
     "name": "stdout",
     "output_type": "stream",
     "text": [
      "Enter a string: madam\n",
      "The first non-repeating character is: d\n"
     ]
    }
   ],
   "source": [
    "def find_first_non_repeating_character(string):\n",
    "    char_count = {}\n",
    "    for char in string:\n",
    "        if char in char_count:\n",
    "            char_count[char] += 1\n",
    "        else:\n",
    "            char_count[char] = 1\n",
    "\n",
    "    for char in string:\n",
    "        if char_count[char] == 1:\n",
    "            return char\n",
    "\n",
    "    return None\n",
    "\n",
    "# Example usage\n",
    "input_string = input(\"Enter a string: \")\n",
    "first_non_repeating_char = find_first_non_repeating_character(input_string)\n",
    "if first_non_repeating_char is not None:\n",
    "    print(f\"The first non-repeating character is: {first_non_repeating_char}\")\n",
    "else:\n",
    "    print(\"There is no non-repeating character in the string.\")\n"
   ]
  },
  {
   "cell_type": "markdown",
   "metadata": {},
   "source": [
    "23. Write a program to find the prime factors of a given number.\n",
    "\n"
   ]
  },
  {
   "cell_type": "code",
   "execution_count": 25,
   "metadata": {},
   "outputs": [
    {
     "name": "stdout",
     "output_type": "stream",
     "text": [
      "Enter a number: 45\n",
      "Prime factors: [3, 3, 5]\n"
     ]
    }
   ],
   "source": [
    "def find_prime_factors(number):\n",
    "    factors = []\n",
    "    divisor = 2\n",
    "\n",
    "    while divisor <= number:\n",
    "        if number % divisor == 0:\n",
    "            factors.append(divisor)\n",
    "            number = number // divisor\n",
    "        else:\n",
    "            divisor += 1\n",
    "\n",
    "    return factors\n",
    "\n",
    "# Example usage\n",
    "number = int(input(\"Enter a number: \"))\n",
    "prime_factors = find_prime_factors(number)\n",
    "print(\"Prime factors:\", prime_factors)\n"
   ]
  },
  {
   "cell_type": "markdown",
   "metadata": {},
   "source": [
    "24. Implement a function to check if a given number is a power of two.\n"
   ]
  },
  {
   "cell_type": "code",
   "execution_count": 26,
   "metadata": {},
   "outputs": [
    {
     "name": "stdout",
     "output_type": "stream",
     "text": [
      "Enter a number: 4\n",
      "The number is a power of two.\n"
     ]
    }
   ],
   "source": [
    "def is_power_of_two(number):\n",
    "    if number <= 0:\n",
    "        return False\n",
    "    return (number & (number - 1)) == 0\n",
    "\n",
    "# Example usage\n",
    "number = int(input(\"Enter a number: \"))\n",
    "if is_power_of_two(number):\n",
    "    print(\"The number is a power of two.\")\n",
    "else:\n",
    "    print(\"The number is not a power of two.\")\n"
   ]
  },
  {
   "cell_type": "markdown",
   "metadata": {},
   "source": [
    "\n",
    "25. Write a Python program to merge two sorted lists into a single sorted list.\n",
    "\n"
   ]
  },
  {
   "cell_type": "code",
   "execution_count": 27,
   "metadata": {},
   "outputs": [
    {
     "name": "stdout",
     "output_type": "stream",
     "text": [
      "Merged sorted list: [1, 2, 3, 4, 5, 6, 7, 8, 9]\n"
     ]
    }
   ],
   "source": [
    "def merge_sorted_lists(list1, list2):\n",
    "    merged_list = []\n",
    "    i, j = 0, 0\n",
    "\n",
    "    while i < len(list1) and j < len(list2):\n",
    "        if list1[i] <= list2[j]:\n",
    "            merged_list.append(list1[i])\n",
    "            i += 1\n",
    "        else:\n",
    "            merged_list.append(list2[j])\n",
    "            j += 1\n",
    "\n",
    "    merged_list.extend(list1[i:])\n",
    "    merged_list.extend(list2[j:])\n",
    "\n",
    "    return merged_list\n",
    "\n",
    "# Example usage\n",
    "list1 = [1, 3, 5, 7, 9]\n",
    "list2 = [2, 4, 6, 8]\n",
    "merged_list = merge_sorted_lists(list1, list2)\n",
    "print(\"Merged sorted list:\", merged_list)\n"
   ]
  },
  {
   "cell_type": "markdown",
   "metadata": {},
   "source": [
    "26. Implement a function to find the mode of a list of numbers.\n"
   ]
  },
  {
   "cell_type": "code",
   "execution_count": 28,
   "metadata": {},
   "outputs": [
    {
     "name": "stdout",
     "output_type": "stream",
     "text": [
      "Mode(s): [2]\n"
     ]
    }
   ],
   "source": [
    "from collections import Counter\n",
    "\n",
    "def find_mode(numbers):\n",
    "    # Count the occurrences of each number\n",
    "    counter = Counter(numbers)\n",
    "\n",
    "    # Find the maximum count\n",
    "    max_count = max(counter.values())\n",
    "\n",
    "    # Find all numbers with the maximum count (modes)\n",
    "    modes = [num for num, count in counter.items() if count == max_count]\n",
    "\n",
    "    return modes\n",
    "\n",
    "# Example usage\n",
    "numbers = [1, 2, 3, 2, 4, 1, 5, 2]\n",
    "modes = find_mode(numbers)\n",
    "print(\"Mode(s):\", modes)\n"
   ]
  },
  {
   "cell_type": "markdown",
   "metadata": {},
   "source": [
    "\n",
    "\n",
    "27. Write a program to find the greatest common divisor (GCD) of two numbers.\n",
    "\n"
   ]
  },
  {
   "cell_type": "code",
   "execution_count": 29,
   "metadata": {},
   "outputs": [
    {
     "name": "stdout",
     "output_type": "stream",
     "text": [
      "Enter the first number: 40\n",
      "Enter the second number: 12\n",
      "GCD: 4\n"
     ]
    }
   ],
   "source": [
    "def find_gcd(a, b):\n",
    "    while b != 0:\n",
    "        a, b = b, a % b\n",
    "    return a\n",
    "\n",
    "# Example usage\n",
    "num1 = int(input(\"Enter the first number: \"))\n",
    "num2 = int(input(\"Enter the second number: \"))\n",
    "\n",
    "gcd = find_gcd(num1, num2)\n",
    "print(\"GCD:\", gcd)\n"
   ]
  },
  {
   "cell_type": "markdown",
   "metadata": {},
   "source": [
    "28. Implement a function to calculate the square root of a given number.\n"
   ]
  },
  {
   "cell_type": "code",
   "execution_count": 30,
   "metadata": {},
   "outputs": [
    {
     "name": "stdout",
     "output_type": "stream",
     "text": [
      "Enter a number: 16\n",
      "Square root: 4.000000000000004\n"
     ]
    }
   ],
   "source": [
    "def calculate_square_root(number):\n",
    "    if number < 0:\n",
    "        raise ValueError(\"Square root is not defined for negative numbers.\")\n",
    "    \n",
    "    if number == 0:\n",
    "        return 0\n",
    "\n",
    "    guess = number / 2\n",
    "    tolerance = 1e-7  # Tolerance for convergence\n",
    "\n",
    "    while abs(guess * guess - number) > tolerance:\n",
    "        guess = (guess + number / guess) / 2\n",
    "\n",
    "    return guess\n",
    "\n",
    "# Example usage\n",
    "number = float(input(\"Enter a number: \"))\n",
    "square_root = calculate_square_root(number)\n",
    "print(\"Square root:\", square_root)\n"
   ]
  },
  {
   "cell_type": "markdown",
   "metadata": {},
   "source": [
    "29. Write a Python program to check if a given string is a valid palindrome ignoring non-alphanumeric characters.\n",
    "\n"
   ]
  },
  {
   "cell_type": "code",
   "execution_count": 31,
   "metadata": {},
   "outputs": [
    {
     "name": "stdout",
     "output_type": "stream",
     "text": [
      "Enter a string: madam\n",
      "The string is a valid palindrome.\n"
     ]
    }
   ],
   "source": [
    "def is_valid_palindrome(string):\n",
    "    alphanumeric_string = ''.join(char.lower() for char in string if char.isalnum())\n",
    "    reversed_string = alphanumeric_string[::-1]\n",
    "    return alphanumeric_string == reversed_string\n",
    "\n",
    "# Example usage\n",
    "input_string = input(\"Enter a string: \")\n",
    "if is_valid_palindrome(input_string):\n",
    "    print(\"The string is a valid palindrome.\")\n",
    "else:\n",
    "    print(\"The string is not a valid palindrome.\")\n"
   ]
  },
  {
   "cell_type": "markdown",
   "metadata": {},
   "source": [
    "30. Implement a function to find the minimum element in a rotated sorted list.\n",
    "\n"
   ]
  },
  {
   "cell_type": "code",
   "execution_count": 32,
   "metadata": {},
   "outputs": [
    {
     "name": "stdout",
     "output_type": "stream",
     "text": [
      "Minimum element: 0\n"
     ]
    }
   ],
   "source": [
    "def find_minimum_in_rotated_list(nums):\n",
    "    left = 0\n",
    "    right = len(nums) - 1\n",
    "\n",
    "    while left < right:\n",
    "        mid = left + (right - left) // 2\n",
    "\n",
    "        if nums[mid] > nums[right]:\n",
    "            left = mid + 1\n",
    "        else:\n",
    "            right = mid\n",
    "\n",
    "    return nums[left]\n",
    "\n",
    "# Example usage\n",
    "rotated_list = [4, 5, 6, 7, 0, 1, 2]\n",
    "minimum = find_minimum_in_rotated_list(rotated_list)\n",
    "print(\"Minimum element:\", minimum)\n"
   ]
  },
  {
   "cell_type": "markdown",
   "metadata": {},
   "source": [
    "31. Write a program to find the sum of all even numbers in a list."
   ]
  },
  {
   "cell_type": "code",
   "execution_count": 1,
   "metadata": {},
   "outputs": [
    {
     "name": "stdout",
     "output_type": "stream",
     "text": [
      "The sum of all the even numbers in the list: 38\n"
     ]
    }
   ],
   "source": [
    "list = [1,2,4,5,8,24,17]\n",
    "sum = 0\n",
    "for i in list:\n",
    "    if i % 2 == 0:\n",
    "        sum += i\n",
    "print(f'The sum of all the even numbers in the list: {sum}')\n",
    "        "
   ]
  },
  {
   "cell_type": "markdown",
   "metadata": {},
   "source": [
    "32. Implement a function to calculate the power of a number using recursion."
   ]
  },
  {
   "cell_type": "code",
   "execution_count": 33,
   "metadata": {},
   "outputs": [
    {
     "name": "stdout",
     "output_type": "stream",
     "text": [
      "Enter the base: 2\n",
      "Enter the exponent: 3\n",
      "2.0 raised to the power of 3 is: 8.0\n"
     ]
    }
   ],
   "source": [
    "def power(base, exponent):\n",
    "    if exponent == 0:\n",
    "        return 1\n",
    "    elif exponent < 0:\n",
    "        return 1 / power(base, -exponent)\n",
    "    else:\n",
    "        return base * power(base, exponent - 1)\n",
    "\n",
    "# Example usage\n",
    "base = float(input(\"Enter the base: \"))\n",
    "exponent = int(input(\"Enter the exponent: \"))\n",
    "\n",
    "result = power(base, exponent)\n",
    "print(f\"{base} raised to the power of {exponent} is: {result}\")\n"
   ]
  },
  {
   "cell_type": "markdown",
   "metadata": {},
   "source": [
    "33. Write a Python program to remove duplicates from a list while preserving the order.\n"
   ]
  },
  {
   "cell_type": "code",
   "execution_count": 36,
   "metadata": {},
   "outputs": [
    {
     "name": "stdout",
     "output_type": "stream",
     "text": [
      "Enter a list of elements (space-separated): 12 12 45 86 12 45\n",
      "List with duplicates removed: ['12', '45', '86']\n"
     ]
    }
   ],
   "source": [
    "def remove_duplicates_preserve_order(lst):\n",
    "    unique_list = []\n",
    "    seen = set()\n",
    "\n",
    "    for item in lst:\n",
    "        if item not in seen:\n",
    "            unique_list.append(item)\n",
    "            seen.add(item)\n",
    "\n",
    "    return unique_list\n",
    "\n",
    "# Example usage\n",
    "input_list = input(\"Enter a list of elements (space-separated): \").split()\n",
    "unique_list = remove_duplicates_preserve_order(input_list)\n",
    "print(\"List with duplicates removed:\", unique_list)\n"
   ]
  },
  {
   "cell_type": "markdown",
   "metadata": {},
   "source": [
    "34. Implement a function to find the longest common prefix among a list of strings."
   ]
  },
  {
   "cell_type": "code",
   "execution_count": 39,
   "metadata": {},
   "outputs": [
    {
     "name": "stdout",
     "output_type": "stream",
     "text": [
      "Enter a list of strings (space-separated): my name is sourav\n",
      "Longest common prefix: \n"
     ]
    }
   ],
   "source": [
    "def find_longest_common_prefix(strings):\n",
    "    if not strings:\n",
    "        return \"\"\n",
    "\n",
    "    min_length = min(len(string) for string in strings)\n",
    "    prefix = \"\"\n",
    "\n",
    "    for i in range(min_length):\n",
    "        common_char = strings[0][i]\n",
    "        for string in strings[1:]:\n",
    "            if string[i] != common_char:\n",
    "                return prefix\n",
    "        prefix += common_char\n",
    "\n",
    "    return prefix\n",
    "\n",
    "# Example usage\n",
    "input_strings = input(\"Enter a list of strings (space-separated): \").split()\n",
    "longest_common_prefix = find_longest_common_prefix(input_strings)\n",
    "print(\"Longest common prefix:\", longest_common_prefix)\n"
   ]
  },
  {
   "cell_type": "markdown",
   "metadata": {},
   "source": [
    "35. Write a program to check if a given number is a perfect square."
   ]
  },
  {
   "cell_type": "code",
   "execution_count": 40,
   "metadata": {},
   "outputs": [
    {
     "name": "stdout",
     "output_type": "stream",
     "text": [
      "Enter a number: 16\n",
      "The number is a perfect square.\n"
     ]
    }
   ],
   "source": [
    "def is_perfect_square(number):\n",
    "    if number < 0:\n",
    "        return False\n",
    "\n",
    "    # Using the property: perfect square = integer square root squared\n",
    "    sqrt = int(number ** 0.5)\n",
    "    return sqrt * sqrt == number\n",
    "\n",
    "# Example usage\n",
    "number = int(input(\"Enter a number: \"))\n",
    "if is_perfect_square(number):\n",
    "    print(\"The number is a perfect square.\")\n",
    "else:\n",
    "    print(\"The number is not a perfect square.\")\n",
    "\n",
    "    "
   ]
  },
  {
   "cell_type": "markdown",
   "metadata": {},
   "source": [
    "36. Implement a function to calculate the product of all elements in a list."
   ]
  },
  {
   "cell_type": "code",
   "execution_count": 41,
   "metadata": {},
   "outputs": [
    {
     "name": "stdout",
     "output_type": "stream",
     "text": [
      "Product: 120\n"
     ]
    }
   ],
   "source": [
    "def calculate_product(numbers):\n",
    "    if not numbers:\n",
    "        return 0\n",
    "\n",
    "    product = 1\n",
    "    for number in numbers:\n",
    "        product *= number\n",
    "\n",
    "    return product\n",
    "\n",
    "# Example usage\n",
    "input_numbers = [2, 3, 4, 5]\n",
    "product = calculate_product(input_numbers)\n",
    "print(\"Product:\", product)\n"
   ]
  },
  {
   "cell_type": "markdown",
   "metadata": {},
   "source": [
    "37.Write a Python program to reverse the order of words in a sentence while preserving the word order"
   ]
  },
  {
   "cell_type": "code",
   "execution_count": 52,
   "metadata": {},
   "outputs": [
    {
     "name": "stdout",
     "output_type": "stream",
     "text": [
      "Enter a sentence: my name is sourav\n",
      "Reversed sentence: sourav is name my\n"
     ]
    }
   ],
   "source": [
    "def reverse_sentence(sentence):\n",
    "    # Convert sentence to list of characters\n",
    "    char_list = list(sentence)\n",
    "    \n",
    "    # Reverse the entire sentence\n",
    "    reverse_list(char_list, 0, len(char_list) - 1)\n",
    "    \n",
    "    # Reverse each word in the sentence\n",
    "    start = 0\n",
    "    for end in range(len(char_list)):\n",
    "        if char_list[end] == ' ':\n",
    "            reverse_list(char_list, start, end - 1)\n",
    "            start = end + 1\n",
    "    \n",
    "    # Reverse the last word\n",
    "    reverse_list(char_list, start, len(char_list) - 1)\n",
    "    \n",
    "    # Convert the character list back to a string\n",
    "    reversed_sentence = ''.join(char_list)\n",
    "    return reversed_sentence\n",
    "\n",
    "def reverse_list(lst, start, end):\n",
    "    while start < end:\n",
    "        lst[start], lst[end] = lst[end], lst[start]\n",
    "        start += 1\n",
    "        end -= 1\n",
    "\n",
    "# Example usage\n",
    "input_sentence = input(\"Enter a sentence: \")\n",
    "reversed_sentence = reverse_sentence(input_sentence)\n",
    "print(\"Reversed sentence:\", reversed_sentence)\n"
   ]
  },
  {
   "cell_type": "markdown",
   "metadata": {},
   "source": [
    "38. Implement a function to find the missing number in a given list of consecutive numbers."
   ]
  },
  {
   "cell_type": "code",
   "execution_count": 42,
   "metadata": {},
   "outputs": [
    {
     "name": "stdout",
     "output_type": "stream",
     "text": [
      "Missing number: 4\n"
     ]
    }
   ],
   "source": [
    "def find_missing_number(numbers):\n",
    "    n = len(numbers) + 1  # Total number of elements including the missing number\n",
    "    expected_sum = n * (n + 1) // 2  # Sum of all numbers from 1 to n\n",
    "    actual_sum = sum(numbers)  # Sum of the given numbers\n",
    "    missing_number = expected_sum - actual_sum\n",
    "    return missing_number\n",
    "\n",
    "# Example usage\n",
    "input_numbers = [1, 2, 3, 5, 6]\n",
    "missing_number = find_missing_number(input_numbers)\n",
    "print(\"Missing number:\", missing_number)\n"
   ]
  },
  {
   "cell_type": "markdown",
   "metadata": {},
   "source": [
    "39. Write a program to find the sum of digits of a given number."
   ]
  },
  {
   "cell_type": "code",
   "execution_count": 43,
   "metadata": {},
   "outputs": [
    {
     "name": "stdout",
     "output_type": "stream",
     "text": [
      "Enter a number: 1245\n",
      "Sum of digits: 12\n"
     ]
    }
   ],
   "source": [
    "def sum_of_digits(number):\n",
    "    sum = 0\n",
    "    while number != 0:\n",
    "        digit = number % 10\n",
    "        sum += digit\n",
    "        number //= 10\n",
    "    return sum\n",
    "\n",
    "# Example usage\n",
    "number = int(input(\"Enter a number: \"))\n",
    "digit_sum = sum_of_digits(number)\n",
    "print(\"Sum of digits:\", digit_sum)\n"
   ]
  },
  {
   "cell_type": "markdown",
   "metadata": {},
   "source": [
    "40. Implement a function to check if a given string is a valid palindrome considering case sensitivity."
   ]
  },
  {
   "cell_type": "code",
   "execution_count": 44,
   "metadata": {},
   "outputs": [
    {
     "name": "stdout",
     "output_type": "stream",
     "text": [
      "Enter a string: racecar\n",
      "The string is a valid palindrome.\n"
     ]
    }
   ],
   "source": [
    "def is_valid_palindrome(string):\n",
    "    # Remove non-alphanumeric characters and convert to lowercase\n",
    "    alphanumeric_string = ''.join(char.lower() for char in string if char.isalnum())\n",
    "\n",
    "    # Check if the alphanumeric string is equal to its reverse\n",
    "    return alphanumeric_string == alphanumeric_string[::-1]\n",
    "\n",
    "# Example usage\n",
    "input_string = input(\"Enter a string: \")\n",
    "if is_valid_palindrome(input_string):\n",
    "    print(\"The string is a valid palindrome.\")\n",
    "else:\n",
    "    print(\"The string is not a valid palindrome.\")\n"
   ]
  },
  {
   "cell_type": "markdown",
   "metadata": {},
   "source": [
    "41. Write a Python program to find the smallest missing positive integer in a list.\n"
   ]
  },
  {
   "cell_type": "code",
   "execution_count": 45,
   "metadata": {},
   "outputs": [
    {
     "name": "stdout",
     "output_type": "stream",
     "text": [
      "Smallest missing positive integer: 5\n"
     ]
    }
   ],
   "source": [
    "def find_smallest_missing_positive_integer(nums):\n",
    "    n = len(nums)\n",
    "\n",
    "    # Step 1: Mark non-positive integers as seen\n",
    "    for i in range(n):\n",
    "        if nums[i] <= 0 or nums[i] > n:\n",
    "            nums[i] = n + 1\n",
    "\n",
    "    # Step 2: Mark seen numbers\n",
    "    for i in range(n):\n",
    "        num = abs(nums[i])\n",
    "        if num <= n:\n",
    "            nums[num - 1] = -abs(nums[num - 1])\n",
    "\n",
    "    # Step 3: Find the first positive unmarked number\n",
    "    for i in range(n):\n",
    "        if nums[i] > 0:\n",
    "            return i + 1\n",
    "\n",
    "    # Step 4: All numbers are marked, return n + 1\n",
    "    return n + 1\n",
    "\n",
    "# Example usage\n",
    "input_nums = [-1, 2, 4, 1, 3]\n",
    "smallest_missing_integer = find_smallest_missing_positive_integer(input_nums)\n",
    "print(\"Smallest missing positive integer:\", smallest_missing_integer)\n"
   ]
  },
  {
   "cell_type": "markdown",
   "metadata": {},
   "source": [
    "42. Implement a function to find the longest palindrome substring in a given string.\n"
   ]
  },
  {
   "cell_type": "code",
   "execution_count": 47,
   "metadata": {},
   "outputs": [
    {
     "name": "stdout",
     "output_type": "stream",
     "text": [
      "Enter a string: population\n",
      "Longest palindrome substring: pop\n"
     ]
    }
   ],
   "source": [
    "def longest_palindrome_substring(string):\n",
    "    longest = \"\"\n",
    "    \n",
    "    for i in range(len(string)):\n",
    "        # Check for odd length palindromes\n",
    "        odd_palindrome = expand_around_center(string, i, i)\n",
    "        longest = max(longest, odd_palindrome, key=len)\n",
    "        \n",
    "        # Check for even length palindromes\n",
    "        even_palindrome = expand_around_center(string, i, i + 1)\n",
    "        longest = max(longest, even_palindrome, key=len)\n",
    "    \n",
    "    return longest\n",
    "\n",
    "\n",
    "def expand_around_center(string, left, right):\n",
    "    while left >= 0 and right < len(string) and string[left] == string[right]:\n",
    "        left -= 1\n",
    "        right += 1\n",
    "    \n",
    "    return string[left + 1 : right]\n",
    "\n",
    "\n",
    "# Example usage\n",
    "input_string = input(\"Enter a string: \")\n",
    "longest_palindrome = longest_palindrome_substring(input_string)\n",
    "print(\"Longest palindrome substring:\", longest_palindrome)\n"
   ]
  },
  {
   "cell_type": "markdown",
   "metadata": {},
   "source": [
    "Write a program to find the number of occurrences of a given element in a list."
   ]
  },
  {
   "cell_type": "code",
   "execution_count": 48,
   "metadata": {},
   "outputs": [
    {
     "name": "stdout",
     "output_type": "stream",
     "text": [
      "Enter the target element: 2\n",
      "Number of occurrences: 3\n"
     ]
    }
   ],
   "source": [
    "def count_occurrences(numbers, target):\n",
    "    count = 0\n",
    "    for num in numbers:\n",
    "        if num == target:\n",
    "            count += 1\n",
    "    return count\n",
    "\n",
    "# Example usage\n",
    "input_list = [1, 2, 3, 2, 4, 2, 5]\n",
    "target_element = int(input(\"Enter the target element: \"))\n",
    "occurrences = count_occurrences(input_list, target_element)\n",
    "print(\"Number of occurrences:\", occurrences)\n"
   ]
  },
  {
   "cell_type": "markdown",
   "metadata": {},
   "source": [
    "44. Implement a function to check if a given number is a perfect number."
   ]
  },
  {
   "cell_type": "code",
   "execution_count": 49,
   "metadata": {},
   "outputs": [
    {
     "name": "stdout",
     "output_type": "stream",
     "text": [
      "Enter a number: 4\n",
      "The number is not a perfect number.\n"
     ]
    }
   ],
   "source": [
    "def is_perfect_number(number):\n",
    "    if number <= 0:\n",
    "        return False\n",
    "\n",
    "    divisors = [1]  # Start with 1 as a divisor\n",
    "    for i in range(2, int(number ** 0.5) + 1):\n",
    "        if number % i == 0:\n",
    "            divisors.append(i)\n",
    "            if i != number // i:  # Avoid duplicate divisors for perfect squares\n",
    "                divisors.append(number // i)\n",
    "\n",
    "    divisor_sum = sum(divisors)\n",
    "    return divisor_sum == number\n",
    "\n",
    "# Example usage\n",
    "input_number = int(input(\"Enter a number: \"))\n",
    "if is_perfect_number(input_number):\n",
    "    print(\"The number is a perfect number.\")\n",
    "else:\n",
    "    print(\"The number is not a perfect number.\")\n"
   ]
  },
  {
   "cell_type": "markdown",
   "metadata": {},
   "source": [
    "45. Write a Python program to remove all duplicates from a string.\n"
   ]
  },
  {
   "cell_type": "code",
   "execution_count": 50,
   "metadata": {},
   "outputs": [
    {
     "name": "stdout",
     "output_type": "stream",
     "text": [
      "Enter a string: what are you doing and how are you?\n",
      "String without duplicates: what reyouding?\n"
     ]
    }
   ],
   "source": [
    "def remove_duplicates(string):\n",
    "    unique_chars = \"\"\n",
    "    seen_chars = set()\n",
    "\n",
    "    for char in string:\n",
    "        if char not in seen_chars:\n",
    "            unique_chars += char\n",
    "            seen_chars.add(char)\n",
    "\n",
    "    return unique_chars\n",
    "\n",
    "# Example usage\n",
    "input_string = input(\"Enter a string: \")\n",
    "string_without_duplicates = remove_duplicates(input_string)\n",
    "print(\"String without duplicates:\", string_without_duplicates)\n"
   ]
  },
  {
   "cell_type": "markdown",
   "metadata": {},
   "source": [
    "46. Implement a function to find the first missing positive\n",
    "\n",
    "\n",
    "\n",
    "\n",
    "\n",
    "\n",
    "\n",
    "\n"
   ]
  },
  {
   "cell_type": "code",
   "execution_count": 51,
   "metadata": {},
   "outputs": [
    {
     "name": "stdout",
     "output_type": "stream",
     "text": [
      "First missing positive: 2\n"
     ]
    }
   ],
   "source": [
    "def find_first_missing_positive(nums):\n",
    "    n = len(nums)\n",
    "\n",
    "    # Step 1: Move positive integers to their correct positions\n",
    "    i = 0\n",
    "    while i < n:\n",
    "        current_num = nums[i]\n",
    "        if 1 <= current_num <= n and current_num != nums[current_num - 1]:\n",
    "            nums[current_num - 1], nums[i] = nums[i], nums[current_num - 1]\n",
    "        else:\n",
    "            i += 1\n",
    "\n",
    "    # Step 2: Find the first missing positive integer\n",
    "    for i in range(n):\n",
    "        if nums[i] != i + 1:\n",
    "            return i + 1\n",
    "\n",
    "    # Step 3: All positive integers are present, return n + 1\n",
    "    return n + 1\n",
    "\n",
    "# Example usage\n",
    "input_nums = [3, 4, -1, 1]\n",
    "first_missing_positive = find_first_missing_positive(input_nums)\n",
    "print(\"First missing positive:\", first_missing_positive)\n"
   ]
  },
  {
   "cell_type": "markdown",
   "metadata": {},
   "source": [
    "thank you"
   ]
  }
 ],
 "metadata": {
  "kernelspec": {
   "display_name": "Python 3",
   "language": "python",
   "name": "python3"
  },
  "language_info": {
   "codemirror_mode": {
    "name": "ipython",
    "version": 3
   },
   "file_extension": ".py",
   "mimetype": "text/x-python",
   "name": "python",
   "nbconvert_exporter": "python",
   "pygments_lexer": "ipython3",
   "version": "3.8.5"
  }
 },
 "nbformat": 4,
 "nbformat_minor": 4
}
